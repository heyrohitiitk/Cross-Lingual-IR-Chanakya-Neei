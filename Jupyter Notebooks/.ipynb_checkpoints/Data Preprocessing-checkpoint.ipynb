{
 "cells": [
  {
   "cell_type": "code",
   "execution_count": 21,
   "id": "3a4c9be4",
   "metadata": {},
   "outputs": [
    {
     "data": {
      "text/plain": [
       "327"
      ]
     },
     "execution_count": 21,
     "metadata": {},
     "output_type": "execute_result"
    }
   ],
   "source": [
    "file = open(\"chanakya-neeti-hindi.txt\", encoding = \"UTF-8\")\n",
    "data = file.read().split(\"\\n\\n\\n\")\n",
    "paras = [lines.split(\"\\n\\n\")[1] for lines in data]\n",
    "slokas = [lines.split(\"\\n\\n\")[0] for lines in data]\n",
    "len(paras)"
   ]
  },
  {
   "cell_type": "code",
   "execution_count": 22,
   "id": "163854e5",
   "metadata": {},
   "outputs": [],
   "source": [
    "with open('paras_hindi.txt', 'w', encoding = \"utf8\") as f:\n",
    "    for para in paras:\n",
    "        f.write(para)\n",
    "        f.write('\\n\\n')"
   ]
  },
  {
   "cell_type": "code",
   "execution_count": 23,
   "id": "213747ed",
   "metadata": {},
   "outputs": [],
   "source": [
    "with open('slokas.txt', 'w', encoding = \"utf8\") as f:\n",
    "    for slok in slokas:\n",
    "        f.write(slok)\n",
    "        f.write('\\n\\n')"
   ]
  },
  {
   "cell_type": "code",
   "execution_count": 24,
   "id": "a5f2efa3",
   "metadata": {},
   "outputs": [
    {
     "data": {
      "text/plain": [
       "327"
      ]
     },
     "execution_count": 24,
     "metadata": {},
     "output_type": "execute_result"
    }
   ],
   "source": [
    "file = open(\"chanakya-neeti-gujrati.txt\", encoding = \"UTF-8\")\n",
    "data = file.read().split(\"\\n\\n\\n\")\n",
    "paras = [lines.split(\"\\n\\n\")[1] for lines in data]\n",
    "len(paras)"
   ]
  },
  {
   "cell_type": "code",
   "execution_count": 25,
   "id": "42b2e14f",
   "metadata": {},
   "outputs": [],
   "source": [
    "with open('paras_gujrati.txt', 'w', encoding = \"utf8\") as f:\n",
    "    for para in paras:\n",
    "        f.write(para)\n",
    "        f.write('\\n\\n')"
   ]
  },
  {
   "cell_type": "code",
   "execution_count": 26,
   "id": "10627c6b",
   "metadata": {},
   "outputs": [
    {
     "data": {
      "text/plain": [
       "327"
      ]
     },
     "execution_count": 26,
     "metadata": {},
     "output_type": "execute_result"
    }
   ],
   "source": [
    "file = open(\"chanakya-neeti-english.txt\", encoding = \"UTF-8\")\n",
    "paras = file.read().split(\"\\n\\n\\n\")\n",
    "len(paras)"
   ]
  },
  {
   "cell_type": "code",
   "execution_count": 27,
   "id": "79cc969f",
   "metadata": {},
   "outputs": [],
   "source": [
    "with open('paras_english.txt', 'w', encoding = \"utf8\") as f:\n",
    "    for para in paras:\n",
    "        f.write(para)\n",
    "        f.write('\\n\\n')"
   ]
  },
  {
   "cell_type": "code",
   "execution_count": 28,
   "id": "c3d9006b",
   "metadata": {},
   "outputs": [],
   "source": [
    "#Stemming Hindi Words\n",
    "\n",
    "suffixes = {\n",
    "    1: [\"ो\", \"े\", \"ू\", \"ु\", \"ी\", \"ि\", \"ा\"],\n",
    "    2: [\"कर\", \"ाओ\", \"िए\", \"ाई\", \"ाए\", \"ने\", \"नी\", \"ना\", \"ते\", \"ीं\", \"ती\", \"ता\", \"ाँ\", \"ां\", \"ों\", \"ें\"],\n",
    "    3: [\"ाकर\", \"ाइए\", \"ाईं\", \"ाया\", \"ेगी\", \"ेगा\", \"ोगी\", \"ोगे\", \"ाने\", \"ाना\", \"ाते\", \"ाती\", \"ाता\", \"तीं\", \"ाओं\", \"ाएं\", \"ुओं\", \"ुएं\", \"ुआं\"],\n",
    "    4: [\"ाएगी\", \"ाएगा\", \"ाओगी\", \"ाओगे\", \"एंगी\", \"ेंगी\", \"एंगे\", \"ेंगे\", \"ूंगी\", \"ूंगा\", \"ातीं\", \"नाओं\", \"नाएं\", \"ताओं\", \"ताएं\", \"ियाँ\", \"ियों\", \"ियां\"],\n",
    "    5: [\"ाएंगी\", \"ाएंगे\", \"ाऊंगी\", \"ाऊंगा\", \"ाइयाँ\", \"ाइयों\", \"ाइयां\"],\n",
    "}\n",
    "\n",
    "def hi_stem(word):\n",
    "    for L in 5, 4, 3, 2, 1:\n",
    "        if len(word) > L + 1:\n",
    "            for suf in suffixes[L]:\n",
    "                if word.endswith(suf):\n",
    "                    return word[:-L]\n",
    "    return word\n"
   ]
  },
  {
   "cell_type": "code",
   "execution_count": 37,
   "id": "aa041b0e",
   "metadata": {},
   "outputs": [],
   "source": [
    "import pickle\n",
    "\n",
    "with open('synonyms.pkl', 'rb') as f:\n",
    "    syns = pickle.load(f)"
   ]
  },
  {
   "cell_type": "code",
   "execution_count": 38,
   "id": "2822fcfd",
   "metadata": {},
   "outputs": [],
   "source": [
    "keys = list(syns.keys())\n",
    "for syn in keys:\n",
    "    new_key = hi_stem(syn)\n",
    "    syns[new_key] = syns.pop(syn)"
   ]
  },
  {
   "cell_type": "code",
   "execution_count": 42,
   "id": "cf54ee86",
   "metadata": {},
   "outputs": [],
   "source": [
    "for syn in syns.keys():\n",
    "    syns[syn] = set(syns[syn])"
   ]
  },
  {
   "cell_type": "code",
   "execution_count": 43,
   "id": "a2824323",
   "metadata": {},
   "outputs": [],
   "source": [
    "with open('synonyms.pkl', 'wb') as file:\n",
    "    pickle.dump(syns, file, protocol=pickle.HIGHEST_PROTOCOL)"
   ]
  },
  {
   "cell_type": "code",
   "execution_count": null,
   "id": "2479568d",
   "metadata": {},
   "outputs": [],
   "source": []
  }
 ],
 "metadata": {
  "kernelspec": {
   "display_name": "Python 3 (ipykernel)",
   "language": "python",
   "name": "python3"
  },
  "language_info": {
   "codemirror_mode": {
    "name": "ipython",
    "version": 3
   },
   "file_extension": ".py",
   "mimetype": "text/x-python",
   "name": "python",
   "nbconvert_exporter": "python",
   "pygments_lexer": "ipython3",
   "version": "3.8.3"
  }
 },
 "nbformat": 4,
 "nbformat_minor": 5
}
